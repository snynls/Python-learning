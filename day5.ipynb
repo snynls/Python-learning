{
 "cells": [
  {
   "cell_type": "markdown",
   "id": "de3a4848",
   "metadata": {},
   "source": [
    "# for loop"
   ]
  },
  {
   "cell_type": "code",
   "execution_count": 1,
   "id": "eb9c5e57",
   "metadata": {},
   "outputs": [
    {
     "name": "stdout",
     "output_type": "stream",
     "text": [
      "ppp\n",
      "yyy\n",
      "ttt\n",
      "hhh\n",
      "ooo\n",
      "nnn\n"
     ]
    }
   ],
   "source": [
    "word='python'\n",
    "for char in word:\n",
    "    print (char*3)"
   ]
  },
  {
   "cell_type": "code",
   "execution_count": 2,
   "id": "34da27fd",
   "metadata": {},
   "outputs": [
    {
     "name": "stdout",
     "output_type": "stream",
     "text": [
      "ppp//yyy//ttt//hhh//ooo//nnn//"
     ]
    }
   ],
   "source": [
    "word='python'\n",
    "for char in word:\n",
    "    print (char*3, end='//')"
   ]
  },
  {
   "cell_type": "code",
   "execution_count": 6,
   "id": "8944aa7d",
   "metadata": {},
   "outputs": [
    {
     "name": "stdout",
     "output_type": "stream",
     "text": [
      "dear Ade, this is a kind reminder of meeting this evening.\n",
      "dear Mercy, this is a kind reminder of meeting this evening.\n",
      "dear Hope, this is a kind reminder of meeting this evening.\n",
      "dear Favor, this is a kind reminder of meeting this evening.\n",
      "dear Mercy, this is a kind reminder of meeting this evening.\n"
     ]
    }
   ],
   "source": [
    "names=['Ade','Mercy', 'Hope','Favor','Mercy']\n",
    "for name in names:\n",
    "    print(f'dear {name}, this is a kind reminder of meeting this evening.')"
   ]
  },
  {
   "cell_type": "markdown",
   "id": "26585f89",
   "metadata": {},
   "source": [
    "# In a school, how can you use a for loop to iterate over a list of student and perform a specific action for each student, such as printing out their grades or generate report cars?"
   ]
  },
  {
   "cell_type": "code",
   "execution_count": 8,
   "id": "b3ce89f0",
   "metadata": {},
   "outputs": [
    {
     "name": "stdout",
     "output_type": "stream",
     "text": [
      "________STUDENT JAMB RESULT______\n",
      "    NAME: Sam Ford\n",
      "    GENDER:Male\n",
      "    AGE:16\n",
      "    ENGLISH:80\n",
      "    MATH:78\n",
      "    CHEMISTRY:70\n",
      "    BIOLOGY:68\n",
      "   \n",
      "Total Score:296\n",
      "    \n",
      "________STUDENT JAMB RESULT______\n",
      "    NAME: Mary Njoku\n",
      "    GENDER:Female\n",
      "    AGE:15\n",
      "    ENGLISH:70\n",
      "    MATH:28\n",
      "    CHEMISTRY:90\n",
      "    BIOLOGY:73\n",
      "   \n",
      "Total Score:261\n",
      "    \n",
      "________STUDENT JAMB RESULT______\n",
      "    NAME: Okoro Hope\n",
      "    GENDER:Female\n",
      "    AGE:17\n",
      "    ENGLISH:50\n",
      "    MATH:48\n",
      "    CHEMISTRY:80\n",
      "    BIOLOGY:78\n",
      "   \n",
      "Total Score:256\n",
      "    \n",
      "________STUDENT JAMB RESULT______\n",
      "    NAME: Samuel Akpan\n",
      "    GENDER:Male\n",
      "    AGE:16\n",
      "    ENGLISH:85\n",
      "    MATH:78\n",
      "    CHEMISTRY:43\n",
      "    BIOLOGY:68\n",
      "   \n",
      "Total Score:274\n",
      "    \n",
      "________STUDENT JAMB RESULT______\n",
      "    NAME: Job Goodman\n",
      "    GENDER:Male\n",
      "    AGE:26\n",
      "    ENGLISH:75\n",
      "    MATH:43\n",
      "    CHEMISTRY:70\n",
      "    BIOLOGY:91\n",
      "   \n",
      "Total Score:279\n",
      "    \n"
     ]
    }
   ],
   "source": [
    "student_records={\n",
    "    '001':{'Name': 'Sam Ford', 'Gender':'Male', 'Age':16, 'English':80, 'Math':78, 'Chemistry':70, 'Biology':68},\n",
    "    '002':{'Name': 'Mary Njoku', 'Gender':'Female', 'Age':15, 'English':70, 'Math':28, 'Chemistry':90, 'Biology':73},\n",
    "    '003':{'Name': 'Okoro Hope', 'Gender':'Female', 'Age':17, 'English':50, 'Math':48, 'Chemistry':80, 'Biology':78},\n",
    "    '004':{'Name': 'Samuel Akpan', 'Gender':'Male', 'Age':16, 'English':85, 'Math':78, 'Chemistry':43, 'Biology':68},\n",
    "    '005':{'Name': 'Job Goodman', 'Gender':'Male', 'Age':26, 'English':75, 'Math':43, 'Chemistry':70, 'Biology':91},\n",
    "    \n",
    "}\n",
    "\n",
    "for key in student_records:\n",
    "    print(f'''________STUDENT JAMB RESULT______\n",
    "    NAME: {student_records[key]['Name']}\n",
    "    GENDER:{student_records[key]['Gender']}\n",
    "    AGE:{student_records[key]['Age']}\n",
    "    ENGLISH:{student_records[key]['English']}\n",
    "    MATH:{student_records[key]['Math']}\n",
    "    CHEMISTRY:{student_records[key]['Chemistry']}\n",
    "    BIOLOGY:{student_records[key]['Biology']}\n",
    "   \n",
    "Total Score:{student_records[key]['English'] + student_records[key]['Math'] + student_records[key]['Chemistry'] + student_records[key]['Biology'] }\n",
    "    ''')"
   ]
  },
  {
   "cell_type": "code",
   "execution_count": 16,
   "id": "48a34b22",
   "metadata": {},
   "outputs": [
    {
     "name": "stdout",
     "output_type": "stream",
     "text": [
      "ENTER YOUR STUDENT ID:5465\n",
      "Record not found\n"
     ]
    }
   ],
   "source": [
    "student_records={\n",
    "    '001':{'Name': 'Sam Ford', 'Gender':'Male', 'Age':16, 'English':80, 'Math':78, 'Chemistry':70, 'Biology':68},\n",
    "    '002':{'Name': 'Mary Njoku', 'Gender':'Female', 'Age':15, 'English':70, 'Math':28, 'Chemistry':90, 'Biology':73},\n",
    "    '003':{'Name': 'Okoro Hope', 'Gender':'Female', 'Age':17, 'English':50, 'Math':48, 'Chemistry':80, 'Biology':78},\n",
    "    '004':{'Name': 'Samuel Akpan', 'Gender':'Male', 'Age':16, 'English':85, 'Math':78, 'Chemistry':43, 'Biology':68},\n",
    "    '005':{'Name': 'Job Goodman', 'Gender':'Male', 'Age':26, 'English':75, 'Math':43, 'Chemistry':70, 'Biology':91},\n",
    "    \n",
    "}\n",
    "ID= input('ENTER YOUR STUDENT ID:')\n",
    "for key in student_records:\n",
    "    if ID == key:\n",
    "        print(f'''________STUDENT JAMB RESULT______\n",
    "    NAME: {student_records[key]['Name']}\n",
    "    GENDER:{student_records[key]['Gender']}\n",
    "    AGE:{student_records[key]['Age']}\n",
    "    ENGLISH:{student_records[key]['English']}\n",
    "    MATH:{student_records[key]['Math']}\n",
    "    CHEMISTRY:{student_records[key]['Chemistry']}\n",
    "    BIOLOGY:{student_records[key]['Biology']}\n",
    "   \n",
    "Total Score:{student_records[key]['English'] + student_records[key]['Math'] + student_records[key]['Chemistry'] + student_records[key]['Biology'] }\n",
    "    ''')\n",
    "        break\n",
    "else:\n",
    "    print('Record not found')"
   ]
  },
  {
   "cell_type": "markdown",
   "id": "b679c847",
   "metadata": {},
   "source": [
    "# While Loop"
   ]
  },
  {
   "cell_type": "markdown",
   "id": "f0528ab0",
   "metadata": {},
   "source": [
    "# How can a shipping company use a while loop to repeatedly attempt delivery of a package untillits successfully delivered"
   ]
  },
  {
   "cell_type": "code",
   "execution_count": 31,
   "id": "f2962c87",
   "metadata": {},
   "outputs": [
    {
     "name": "stdout",
     "output_type": "stream",
     "text": [
      "ENTER PACKAGE ID:xjkfndasf\\]\n",
      "Enter Item Statuspending\n",
      "xjkfndasf\\] id still in transit try again....\n",
      "Enter Item Statussuccess\n",
      "xjkfndasf\\] id delivered successfully\n"
     ]
    }
   ],
   "source": [
    "package =input('ENTER PACKAGE ID:')\n",
    "Counter=0\n",
    "delivered = False\n",
    "while not delivered:\n",
    "    status=input('Enter Item Status')\n",
    "    if status=='pending':\n",
    "        print (f'{package} id still in transit try again....')\n",
    "    elif status == 'success':\n",
    "        print(f'{package} id delivered successfully')\n",
    "        delivered = True\n",
    "    Counter +=1\n",
    "    \n",
    "        \n"
   ]
  },
  {
   "cell_type": "code",
   "execution_count": 32,
   "id": "746227fe",
   "metadata": {},
   "outputs": [
    {
     "name": "stdout",
     "output_type": "stream",
     "text": [
      "2\n"
     ]
    }
   ],
   "source": [
    "print(Counter)"
   ]
  },
  {
   "cell_type": "code",
   "execution_count": 33,
   "id": "2b0ee7e0",
   "metadata": {},
   "outputs": [
    {
     "name": "stdout",
     "output_type": "stream",
     "text": [
      "Enter any Number99\n",
      "99 * 1 = 99\n",
      "99 * 2 = 198\n",
      "99 * 3 = 297\n",
      "99 * 4 = 396\n",
      "99 * 5 = 495\n",
      "99 * 6 = 594\n",
      "99 * 7 = 693\n",
      "99 * 8 = 792\n",
      "99 * 9 = 891\n",
      "99 * 10 = 990\n",
      "99 * 11 = 1089\n",
      "99 * 12 = 1188\n"
     ]
    }
   ],
   "source": [
    "num = int(input ('Enter any Number'))\n",
    "counter=1\n",
    "while counter <=12:\n",
    "    print(f'{num} * {counter} = {num * counter}')\n",
    "    counter +=1"
   ]
  },
  {
   "cell_type": "code",
   "execution_count": 34,
   "id": "71e35ed4",
   "metadata": {},
   "outputs": [
    {
     "name": "stdout",
     "output_type": "stream",
     "text": [
      "13\n"
     ]
    }
   ],
   "source": [
    "print(counter)"
   ]
  },
  {
   "cell_type": "code",
   "execution_count": null,
   "id": "139cb5d0",
   "metadata": {},
   "outputs": [],
   "source": []
  }
 ],
 "metadata": {
  "kernelspec": {
   "display_name": "Python 3 (ipykernel)",
   "language": "python",
   "name": "python3"
  },
  "language_info": {
   "codemirror_mode": {
    "name": "ipython",
    "version": 3
   },
   "file_extension": ".py",
   "mimetype": "text/x-python",
   "name": "python",
   "nbconvert_exporter": "python",
   "pygments_lexer": "ipython3",
   "version": "3.9.12"
  }
 },
 "nbformat": 4,
 "nbformat_minor": 5
}

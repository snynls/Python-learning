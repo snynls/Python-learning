{
 "cells": [
  {
   "cell_type": "markdown",
   "id": "829ca64f",
   "metadata": {},
   "source": [
    "# calss Inheritance"
   ]
  },
  {
   "cell_type": "code",
   "execution_count": 5,
   "id": "92cd915a",
   "metadata": {},
   "outputs": [],
   "source": [
    "class simulation:\n",
    "    def __init__ (self,brand,model,color,year,speed):\n",
    "        self.brand=brand\n",
    "        self.model=model\n",
    "        self.color=color\n",
    "        self.year=year\n",
    "        self.speed=speed\n",
    "    def start(self):\n",
    "        print(f'{self.brand} {self.model} has started')\n",
    "    def gear(self):\n",
    "        if option==1:\n",
    "            print('Gear changed to 1')\n",
    "        elif option==2:\n",
    "            print('Gear changed to 2')\n",
    "        elif option==3:\n",
    "            print('Gear changed to 3')\n",
    "        elif option==4:\n",
    "            print('Gear changed to 4')\n",
    "        elif Option==5:\n",
    "            print('Gear changed to 5')\n",
    "        elif option==6:\n",
    "            print('Gear changed to reverse')\n",
    "            \n",
    "    def accelerate(self,option):\n",
    "        if option==1:\n",
    "            print('nitro engaged')\n",
    "        elif option==2:\n",
    "            print('nitro disengaged')\n",
    "            \n",
    "    def stop(self):\n",
    "        print(f'{self.brand} {self.model} has stopped')\n",
    "car1=simulation('Audi','AG6','White', 2020,450)\n",
    "    "
   ]
  },
  {
   "cell_type": "code",
   "execution_count": 6,
   "id": "726af4eb",
   "metadata": {},
   "outputs": [
    {
     "name": "stdout",
     "output_type": "stream",
     "text": [
      "Audi AG6 has started\n"
     ]
    }
   ],
   "source": [
    "car1.start()"
   ]
  },
  {
   "cell_type": "code",
   "execution_count": 7,
   "id": "34000dd1",
   "metadata": {},
   "outputs": [
    {
     "name": "stdout",
     "output_type": "stream",
     "text": [
      "nitro engaged\n"
     ]
    }
   ],
   "source": [
    "car1.accelerate(1)"
   ]
  },
  {
   "cell_type": "code",
   "execution_count": 10,
   "id": "3c03ed81",
   "metadata": {},
   "outputs": [],
   "source": [
    "class simulation2(simulation):\n",
    "     def openroof(self,option):\n",
    "        if option==1:\n",
    "            print('roof open')\n",
    "        elif option==2:\n",
    "            print('roof closed')\n",
    "car2= simulation2('Mercedwz benz', 'GLK', 'Black', 2022, 600)\n",
    "    "
   ]
  },
  {
   "cell_type": "code",
   "execution_count": 11,
   "id": "714da8fc",
   "metadata": {},
   "outputs": [
    {
     "name": "stdout",
     "output_type": "stream",
     "text": [
      "Mercedwz benz GLK has started\n"
     ]
    }
   ],
   "source": [
    "car2.start()"
   ]
  },
  {
   "cell_type": "code",
   "execution_count": 17,
   "id": "bf15749f",
   "metadata": {},
   "outputs": [
    {
     "name": "stdout",
     "output_type": "stream",
     "text": [
      "Enter First Number:12\n",
      "Enter Second Number:10\n",
      "+\n",
      "    -\n",
      "    *\n",
      "    /\n",
      "    +\n",
      "12 + 10 = 22\n"
     ]
    }
   ],
   "source": [
    "try:\n",
    "    num1=int(input('Enter First Number:'))\n",
    "    num2=int(input('Enter Second Number:'))\n",
    "    option=input('''+\n",
    "    -\n",
    "    *\n",
    "    /\n",
    "    ''')\n",
    "    if option=='+':\n",
    "        print(f'{num1} + {num2} = {num1 + num2}')\n",
    "    elif option=='-':\n",
    "        print(f'{num1} - {num2} = {num1 - num2}')\n",
    "    elif option=='*':\n",
    "        print(f'{num1} * {num2} = {num1 * num2}')\n",
    "    elif option=='/':\n",
    "        print(f'{num1} / {num2} = {num1 / num2}')\n",
    "except:\n",
    "    print('Youve encountered an error')"
   ]
  },
  {
   "cell_type": "code",
   "execution_count": 18,
   "id": "35bb8de1",
   "metadata": {},
   "outputs": [
    {
     "name": "stdout",
     "output_type": "stream",
     "text": [
      "Enter First Number:12\n",
      "Enter Second Number:10\n",
      "+\n",
      "    -\n",
      "    *\n",
      "    /\n",
      "    fj\n"
     ]
    }
   ],
   "source": [
    "try:\n",
    "    num1=int(input('Enter First Number:'))\n",
    "    num2=int(input('Enter Second Number:'))\n",
    "    option=input('''+\n",
    "    -\n",
    "    *\n",
    "    /\n",
    "    ''')\n",
    "    if option=='+':\n",
    "        print(f'{num1} + {num2} = {num1 + num2}')\n",
    "    elif option=='-':\n",
    "        print(f'{num1} - {num2} = {num1 - num2}')\n",
    "    elif option=='*':\n",
    "        print(f'{num1} * {num2} = {num1 * num2}')\n",
    "    elif option=='/':\n",
    "        print(f'{num1} / {num2} = {num1 / num2}')\n",
    "except ValueError:\n",
    "    print('Wrong value, only integer expected')\n",
    "except ZeroDivisionError:\n",
    "        print('You can not divid a number by Zero')\n",
    "except:\n",
    "    print('Youve encountered an error')\n",
    "finally:\n",
    "    print('End of program')"
   ]
  },
  {
   "cell_type": "markdown",
   "id": "69010192",
   "metadata": {},
   "source": [
    "# MAP AND FILTER"
   ]
  },
  {
   "cell_type": "code",
   "execution_count": 19,
   "id": "2101420d",
   "metadata": {},
   "outputs": [
    {
     "data": {
      "text/plain": [
       "16"
      ]
     },
     "execution_count": 19,
     "metadata": {},
     "output_type": "execute_result"
    }
   ],
   "source": [
    "(lambda X:X+X)(8)"
   ]
  },
  {
   "cell_type": "code",
   "execution_count": 20,
   "id": "4b0c8c14",
   "metadata": {},
   "outputs": [],
   "source": [
    "numbers=[]\n",
    "import random\n",
    "counter=1\n",
    "while counter<=50:\n",
    "    num=random.randint(45,80)\n",
    "    numbers.append(num)\n",
    "    counter+=1"
   ]
  },
  {
   "cell_type": "code",
   "execution_count": 21,
   "id": "d76a78f8",
   "metadata": {},
   "outputs": [
    {
     "name": "stdout",
     "output_type": "stream",
     "text": [
      "[53, 70, 79, 72, 47, 79, 75, 77, 80, 45, 74, 57, 72, 74, 52, 74, 47, 76, 62, 75, 57, 68, 56, 69, 72, 69, 64, 71, 53, 57, 63, 75, 78, 49, 53, 63, 78, 47, 46, 78, 53, 77, 63, 63, 53, 52, 49, 71, 50, 80]\n"
     ]
    }
   ],
   "source": [
    "print(numbers)"
   ]
  },
  {
   "cell_type": "code",
   "execution_count": 22,
   "id": "b25e94b2",
   "metadata": {},
   "outputs": [
    {
     "name": "stdout",
     "output_type": "stream",
     "text": [
      "[53.0, 70.0, 79.0, 72.0, 47.0, 79.0, 75.0, 77.0, 80.0, 45.0, 74.0, 57.0, 72.0, 74.0, 52.0, 74.0, 47.0, 76.0, 62.0, 75.0, 57.0, 68.0, 56.0, 69.0, 72.0, 69.0, 64.0, 71.0, 53.0, 57.0, 63.0, 75.0, 78.0, 49.0, 53.0, 63.0, 78.0, 47.0, 46.0, 78.0, 53.0, 77.0, 63.0, 63.0, 53.0, 52.0, 49.0, 71.0, 50.0, 80.0]\n"
     ]
    }
   ],
   "source": [
    "ulist=list(map(lambda X:float(X),numbers))\n",
    "print(ulist)"
   ]
  },
  {
   "cell_type": "code",
   "execution_count": null,
   "id": "574a9544",
   "metadata": {},
   "outputs": [],
   "source": []
  }
 ],
 "metadata": {
  "kernelspec": {
   "display_name": "Python 3 (ipykernel)",
   "language": "python",
   "name": "python3"
  },
  "language_info": {
   "codemirror_mode": {
    "name": "ipython",
    "version": 3
   },
   "file_extension": ".py",
   "mimetype": "text/x-python",
   "name": "python",
   "nbconvert_exporter": "python",
   "pygments_lexer": "ipython3",
   "version": "3.9.12"
  }
 },
 "nbformat": 4,
 "nbformat_minor": 5
}

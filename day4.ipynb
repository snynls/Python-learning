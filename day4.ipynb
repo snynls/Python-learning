{
 "cells": [
  {
   "cell_type": "markdown",
   "id": "07c915c3",
   "metadata": {},
   "source": [
    "# Modules or Packages"
   ]
  },
  {
   "cell_type": "code",
   "execution_count": 1,
   "id": "ab0d6ce2",
   "metadata": {},
   "outputs": [
    {
     "name": "stdout",
     "output_type": "stream",
     "text": [
      "['__doc__', '__loader__', '__name__', '__package__', '__spec__', 'acos', 'acosh', 'asin', 'asinh', 'atan', 'atan2', 'atanh', 'ceil', 'comb', 'copysign', 'cos', 'cosh', 'degrees', 'dist', 'e', 'erf', 'erfc', 'exp', 'expm1', 'fabs', 'factorial', 'floor', 'fmod', 'frexp', 'fsum', 'gamma', 'gcd', 'hypot', 'inf', 'isclose', 'isfinite', 'isinf', 'isnan', 'isqrt', 'lcm', 'ldexp', 'lgamma', 'log', 'log10', 'log1p', 'log2', 'modf', 'nan', 'nextafter', 'perm', 'pi', 'pow', 'prod', 'radians', 'remainder', 'sin', 'sinh', 'sqrt', 'tan', 'tanh', 'tau', 'trunc', 'ulp']\n"
     ]
    }
   ],
   "source": [
    "import math\n",
    "print(dir(math))"
   ]
  },
  {
   "cell_type": "code",
   "execution_count": 2,
   "id": "f593e1f0",
   "metadata": {},
   "outputs": [
    {
     "name": "stdout",
     "output_type": "stream",
     "text": [
      "15\n",
      "16\n",
      "3.919183588453085\n",
      "0.3409838470487362\n"
     ]
    }
   ],
   "source": [
    "num=15.36\n",
    "print(math.floor(num))\n",
    "print(math.ceil(num))\n",
    "print (math.sqrt(num))\n",
    "print(math.sin(num))"
   ]
  },
  {
   "cell_type": "code",
   "execution_count": 3,
   "id": "2a5a5fa9",
   "metadata": {},
   "outputs": [
    {
     "name": "stdout",
     "output_type": "stream",
     "text": [
      "['Counter', 'Decimal', 'Fraction', 'NormalDist', 'StatisticsError', '__all__', '__builtins__', '__cached__', '__doc__', '__file__', '__loader__', '__name__', '__package__', '__spec__', '_coerce', '_convert', '_exact_ratio', '_fail_neg', '_find_lteq', '_find_rteq', '_isfinite', '_normal_dist_inv_cdf', '_ss', '_sum', 'bisect_left', 'bisect_right', 'erf', 'exp', 'fabs', 'fmean', 'fsum', 'geometric_mean', 'groupby', 'harmonic_mean', 'hypot', 'itemgetter', 'log', 'math', 'mean', 'median', 'median_grouped', 'median_high', 'median_low', 'mode', 'multimode', 'numbers', 'pstdev', 'pvariance', 'quantiles', 'random', 'sqrt', 'stdev', 'tau', 'variance']\n"
     ]
    }
   ],
   "source": [
    "import statistics as stat\n",
    "print(dir(stat))"
   ]
  },
  {
   "cell_type": "code",
   "execution_count": 5,
   "id": "d258f659",
   "metadata": {},
   "outputs": [
    {
     "name": "stdout",
     "output_type": "stream",
     "text": [
      "62.714285714285715\n",
      "65\n",
      "[33.857142857142854, 47.0, 57.57142857142857, 72.42857142857143, 78.0, 87.42857142857143]\n"
     ]
    }
   ],
   "source": [
    "numbers=[78,89,52,32,65,45,78]\n",
    "print(stat.mean(numbers))\n",
    "print(stat.median(numbers))\n",
    "print(stat.quantiles(numbers,n=7))"
   ]
  },
  {
   "cell_type": "code",
   "execution_count": 6,
   "id": "3967af98",
   "metadata": {},
   "outputs": [
    {
     "name": "stdout",
     "output_type": "stream",
     "text": [
      "['BPF', 'LOG4', 'NV_MAGICCONST', 'RECIP_BPF', 'Random', 'SG_MAGICCONST', 'SystemRandom', 'TWOPI', '_Sequence', '_Set', '__all__', '__builtins__', '__cached__', '__doc__', '__file__', '__loader__', '__name__', '__package__', '__spec__', '_accumulate', '_acos', '_bisect', '_ceil', '_cos', '_e', '_exp', '_floor', '_inst', '_log', '_os', '_pi', '_random', '_repeat', '_sha512', '_sin', '_sqrt', '_test', '_test_generator', '_urandom', '_warn', 'betavariate', 'choice', 'choices', 'expovariate', 'gammavariate', 'gauss', 'getrandbits', 'getstate', 'lognormvariate', 'normalvariate', 'paretovariate', 'randbytes', 'randint', 'random', 'randrange', 'sample', 'seed', 'setstate', 'shuffle', 'triangular', 'uniform', 'vonmisesvariate', 'weibullvariate']\n"
     ]
    }
   ],
   "source": [
    "import random as rn \n",
    "print(dir(rn))"
   ]
  },
  {
   "cell_type": "code",
   "execution_count": 7,
   "id": "3ce5dbf0",
   "metadata": {},
   "outputs": [
    {
     "name": "stdout",
     "output_type": "stream",
     "text": [
      "89\n"
     ]
    }
   ],
   "source": [
    "print(rn.choice(numbers))"
   ]
  },
  {
   "cell_type": "code",
   "execution_count": 9,
   "id": "b84890a9",
   "metadata": {},
   "outputs": [
    {
     "data": {
      "text/plain": [
       "16"
      ]
     },
     "execution_count": 9,
     "metadata": {},
     "output_type": "execute_result"
    }
   ],
   "source": [
    "rn.randint(14,25)"
   ]
  },
  {
   "cell_type": "code",
   "execution_count": 10,
   "id": "46a7c032",
   "metadata": {},
   "outputs": [
    {
     "name": "stdout",
     "output_type": "stream",
     "text": [
      "['Formatter', 'Template', '_ChainMap', '__all__', '__builtins__', '__cached__', '__doc__', '__file__', '__loader__', '__name__', '__package__', '__spec__', '_re', '_sentinel_dict', '_string', 'ascii_letters', 'ascii_lowercase', 'ascii_uppercase', 'capwords', 'digits', 'hexdigits', 'octdigits', 'printable', 'punctuation', 'whitespace']\n"
     ]
    }
   ],
   "source": [
    "import string as strn\n",
    "print(dir(strn))"
   ]
  },
  {
   "cell_type": "code",
   "execution_count": 11,
   "id": "4a36171f",
   "metadata": {},
   "outputs": [
    {
     "name": "stdout",
     "output_type": "stream",
     "text": [
      "abcdefghijklmnopqrstuvwxyzABCDEFGHIJKLMNOPQRSTUVWXYZ\n"
     ]
    }
   ],
   "source": [
    "print(strn.ascii_letters)"
   ]
  },
  {
   "cell_type": "code",
   "execution_count": 13,
   "id": "f55c4534",
   "metadata": {},
   "outputs": [
    {
     "name": "stdout",
     "output_type": "stream",
     "text": [
      "abcdefghijklmnopqrstuvwxyz\n"
     ]
    }
   ],
   "source": [
    "print(strn.ascii_lowercase)"
   ]
  },
  {
   "cell_type": "code",
   "execution_count": 14,
   "id": "495499dc",
   "metadata": {},
   "outputs": [
    {
     "name": "stdout",
     "output_type": "stream",
     "text": [
      "Python Is Fun\n"
     ]
    }
   ],
   "source": [
    "word='PYTHON IS FUN'\n",
    "print(strn.capwords(word))"
   ]
  },
  {
   "cell_type": "code",
   "execution_count": 15,
   "id": "2a6a1999",
   "metadata": {},
   "outputs": [
    {
     "name": "stdout",
     "output_type": "stream",
     "text": [
      "['A', 'ASCII', 'DEBUG', 'DOTALL', 'I', 'IGNORECASE', 'L', 'LOCALE', 'M', 'MULTILINE', 'Match', 'Pattern', 'RegexFlag', 'S', 'Scanner', 'T', 'TEMPLATE', 'U', 'UNICODE', 'VERBOSE', 'X', '_MAXCACHE', '__all__', '__builtins__', '__cached__', '__doc__', '__file__', '__loader__', '__name__', '__package__', '__spec__', '__version__', '_cache', '_compile', '_compile_repl', '_expand', '_locale', '_pickle', '_special_chars_map', '_subx', 'compile', 'copyreg', 'enum', 'error', 'escape', 'findall', 'finditer', 'fullmatch', 'functools', 'match', 'purge', 'search', 'split', 'sre_compile', 'sre_parse', 'sub', 'subn', 'template']\n"
     ]
    }
   ],
   "source": [
    "import re # re means regular expression\n",
    "print(dir(re))"
   ]
  },
  {
   "cell_type": "code",
   "execution_count": 16,
   "id": "9b6f16ef",
   "metadata": {},
   "outputs": [
    {
     "name": "stdout",
     "output_type": "stream",
     "text": [
      "['the', 'the']\n"
     ]
    }
   ],
   "source": [
    "word2='ade is from a well known town in the western part of the country, he is 45 years old'\n",
    "print(re.findall('the',word2))"
   ]
  },
  {
   "cell_type": "markdown",
   "id": "c3a99a3c",
   "metadata": {},
   "source": [
    "# CONDITIONAL STATEMENT"
   ]
  },
  {
   "cell_type": "markdown",
   "id": "e4c4e5b9",
   "metadata": {},
   "source": [
    "### In a credit reward program, how can a conditional statement be used to determine if a customer has spent a certain amount on qualifying purchase, and award them points or other rewords accordingly? "
   ]
  },
  {
   "cell_type": "code",
   "execution_count": 19,
   "id": "c571b0ac",
   "metadata": {},
   "outputs": [
    {
     "name": "stdout",
     "output_type": "stream",
     "text": [
      "Enter Customer Purchase amount:200\n",
      "Purchase amount less than the  rewrading program requirement\n"
     ]
    }
   ],
   "source": [
    "purchaseamount=float(input('Enter Customer Purchase amount:'))\n",
    "if purchaseamount > 1000:\n",
    "    print('You are awarded 10 point')\n",
    "else:\n",
    "    print('Purchase amount less than the  rewrading program requirement')"
   ]
  },
  {
   "cell_type": "markdown",
   "id": "532dfd4b",
   "metadata": {},
   "source": [
    "# Nexted IF statement "
   ]
  },
  {
   "cell_type": "code",
   "execution_count": 23,
   "id": "d9bdbb04",
   "metadata": {},
   "outputs": [
    {
     "name": "stdout",
     "output_type": "stream",
     "text": [
      "Enter Customer Purchase amount:300000\n",
      "You are awarded a bag of rice\n"
     ]
    }
   ],
   "source": [
    "rewards=['10% discount', '20% discount',   'bag of rice', '10 live chicken', 'Goat Head']\n",
    "purchaseamount=float(input('Enter Customer Purchase amount:'))\n",
    "if purchaseamount > 50000 and purchaseamount <=100000:\n",
    "    print(f'You are awarded a {rewards[0]}')\n",
    "else:\n",
    "    \n",
    "        if purchaseamount > 100000 and purchaseamount <=200000:\n",
    "            print(f'You are awarded a {rewards[1]}')\n",
    "        else:\n",
    "            if purchaseamount > 200000 and purchaseamount <=400000:\n",
    "                print(f'You are awarded a {rewards[2]}')\n",
    "            else:\n",
    "                if purchaseamount > 400000 and purchaseamount <=600000:\n",
    "                    print(f'You are awarded a {rewards[3]}')\n",
    "                else:\n",
    "                    if purchaseamount > 600000:\n",
    "                        print(f'You are awarded a {rewards[4]}')\n",
    "                    else:\n",
    "                         print('Purchase amount is less than the rewrading program requirement')"
   ]
  },
  {
   "cell_type": "markdown",
   "id": "0ad42d4b",
   "metadata": {},
   "source": [
    "# Using Random\n",
    "# This requires having different groups of rewards"
   ]
  },
  {
   "cell_type": "code",
   "execution_count": 27,
   "id": "1baa9496",
   "metadata": {},
   "outputs": [
    {
     "name": "stdout",
     "output_type": "stream",
     "text": [
      "Enter Customer Purchase amount:100020\n",
      "You are awarded a Goat Head\n"
     ]
    }
   ],
   "source": [
    "import random as rn\n",
    "rewards=['10% discount', '20% discount',   'bag of rice', '10 live chicken', 'Goat Head']\n",
    "purchaseamount=float(input('Enter Customer Purchase amount:'))\n",
    "if purchaseamount > 50000 and purchaseamount <=100000:\n",
    "    print(f'You are awarded a {rn.choice(rewards)}')\n",
    "\n",
    "    \n",
    "elif purchaseamount > 100000 and purchaseamount <=200000:\n",
    "      print(f'You are awarded a {rn.choice(rewards)}')\n",
    "        \n",
    "elif purchaseamount > 200000 and purchaseamount <=400000:\n",
    "    print(f'You are awarded a {rn.choice(rewards)}')\n",
    "            \n",
    "elif purchaseamount > 400000 and purchaseamount <=600000:\n",
    "    print(f'You are awarded a {rn.choice(rewards)}')\n",
    "                \n",
    "elif purchaseamount > 600000:\n",
    "    print(f'You are awarded a {rn.choice(rewards)}')\n",
    "else:\n",
    "     print('Purchase amount is less than the rewrading program requirement')"
   ]
  },
  {
   "cell_type": "code",
   "execution_count": null,
   "id": "57bfd4bf",
   "metadata": {},
   "outputs": [],
   "source": []
  },
  {
   "cell_type": "code",
   "execution_count": null,
   "id": "f947d214",
   "metadata": {},
   "outputs": [],
   "source": []
  }
 ],
 "metadata": {
  "kernelspec": {
   "display_name": "Python 3 (ipykernel)",
   "language": "python",
   "name": "python3"
  },
  "language_info": {
   "codemirror_mode": {
    "name": "ipython",
    "version": 3
   },
   "file_extension": ".py",
   "mimetype": "text/x-python",
   "name": "python",
   "nbconvert_exporter": "python",
   "pygments_lexer": "ipython3",
   "version": "3.9.12"
  }
 },
 "nbformat": 4,
 "nbformat_minor": 5
}

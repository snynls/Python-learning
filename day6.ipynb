{
 "cells": [
  {
   "cell_type": "markdown",
   "id": "8813100e",
   "metadata": {},
   "source": [
    "# FUNCTIONS"
   ]
  },
  {
   "cell_type": "code",
   "execution_count": 3,
   "id": "79a34404",
   "metadata": {},
   "outputs": [],
   "source": [
    "def greet(): # Function without parameter\n",
    "    print('Welcome to Python Class')\n"
   ]
  },
  {
   "cell_type": "code",
   "execution_count": 4,
   "id": "90915652",
   "metadata": {},
   "outputs": [
    {
     "name": "stdout",
     "output_type": "stream",
     "text": [
      "Welcome to Python Class\n"
     ]
    }
   ],
   "source": [
    "greet() # this is to call the function greet dat was declared"
   ]
  },
  {
   "cell_type": "code",
   "execution_count": 5,
   "id": "f2fc29d2",
   "metadata": {},
   "outputs": [
    {
     "name": "stdout",
     "output_type": "stream",
     "text": [
      "Welcome to Python class samuel\n"
     ]
    }
   ],
   "source": [
    "def greet2(name): # a function with parameter\n",
    "    print(f'Welcome to Python class {name}')\n",
    "greet2('samuel')\n",
    "    "
   ]
  },
  {
   "cell_type": "code",
   "execution_count": 6,
   "id": "aeaaa789",
   "metadata": {},
   "outputs": [
    {
     "name": "stdout",
     "output_type": "stream",
     "text": [
      "Welcome to Python class Job\n"
     ]
    }
   ],
   "source": [
    "greet2('Job')"
   ]
  },
  {
   "cell_type": "code",
   "execution_count": 7,
   "id": "f870716a",
   "metadata": {},
   "outputs": [
    {
     "name": "stdout",
     "output_type": "stream",
     "text": [
      " Name: Lawal  Hope\n",
      "Gender: Female\n",
      "Age: 25\n",
      "\n",
      "You are eligible to vote\n"
     ]
    }
   ],
   "source": [
    "def voteacreditation(name, gender,age):\n",
    "    print(f''' Name: {name}\n",
    "Gender: {gender}\n",
    "Age: {age}\n",
    "''')\n",
    "    if age>= 18:\n",
    "        print('You are eligible to vote')\n",
    "    else:\n",
    "        print('Sorry you are not eligible to vote')\n",
    "voteacreditation('Lawal  Hope','Female', 25)"
   ]
  },
  {
   "cell_type": "code",
   "execution_count": 8,
   "id": "87c788d2",
   "metadata": {},
   "outputs": [
    {
     "name": "stdout",
     "output_type": "stream",
     "text": [
      " Name: Same Ola\n",
      "Gender: Male\n",
      "Age: 12\n",
      "\n",
      "Sorry you are not eligible to vote\n"
     ]
    }
   ],
   "source": [
    "voteacreditation('Same Ola', 'Male', 12)"
   ]
  },
  {
   "cell_type": "code",
   "execution_count": 10,
   "id": "61d25f71",
   "metadata": {},
   "outputs": [
    {
     "name": "stdout",
     "output_type": "stream",
     "text": [
      "Enter Your Age21\n",
      " Name: Lawal  Hope\n",
      "Gender: Female\n",
      "Age: 21\n",
      "\n",
      "You are eligible to vote\n"
     ]
    }
   ],
   "source": [
    "def voteacreditation(name, gender,age=int(input('Enter Your Age'))):\n",
    "    print(f''' Name: {name}\n",
    "Gender: {gender}\n",
    "Age: {age}\n",
    "''')\n",
    "    if age>= 18:\n",
    "        print('You are eligible to vote')\n",
    "    else:\n",
    "        print('Sorry you are not eligible to vote')\n",
    "voteacreditation('Lawal  Hope','Female')"
   ]
  },
  {
   "cell_type": "markdown",
   "id": "63e363e2",
   "metadata": {},
   "source": [
    "# Write a Function to Perform the following operations\n",
    "# 1. Deposite\n",
    "# 2. Transfer\n",
    "# 3. Buyairtime and data\n",
    "# 4. Check Balance"
   ]
  },
  {
   "cell_type": "code",
   "execution_count": 29,
   "id": "c8226a47",
   "metadata": {},
   "outputs": [
    {
     "name": "stdout",
     "output_type": "stream",
     "text": [
      "What do you want to perform:deposit\n",
      "Enter amount to be deposited:200000\n",
      "Your Balance is: 200000\n"
     ]
    }
   ],
   "source": [
    "def mobileaccount():\n",
    "    functions=input('What do you want to perform:')\n",
    "    balance=0\n",
    "    transfer=0\n",
    "    buydataandairtime=0\n",
    "    if functions=='deposit':\n",
    "        deposit=int(input('Enter amount to be deposited:'))\n",
    "        balance = balance + deposit\n",
    "        print(f'Your Balance is: {balance}')\n",
    "mobileaccount()   \n",
    "                "
   ]
  },
  {
   "cell_type": "code",
   "execution_count": null,
   "id": "ffc5b409",
   "metadata": {},
   "outputs": [],
   "source": [
    "passed=[4545,8989,4500,5200]\n",
    "def moniapp():\n",
    "    password=int(input('Enter Your Password'))"
   ]
  }
 ],
 "metadata": {
  "kernelspec": {
   "display_name": "Python 3 (ipykernel)",
   "language": "python",
   "name": "python3"
  },
  "language_info": {
   "codemirror_mode": {
    "name": "ipython",
    "version": 3
   },
   "file_extension": ".py",
   "mimetype": "text/x-python",
   "name": "python",
   "nbconvert_exporter": "python",
   "pygments_lexer": "ipython3",
   "version": "3.9.12"
  }
 },
 "nbformat": 4,
 "nbformat_minor": 5
}

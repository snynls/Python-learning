{
 "cells": [
  {
   "cell_type": "markdown",
   "id": "03743685",
   "metadata": {},
   "source": [
    "# DATE AND TIME"
   ]
  },
  {
   "cell_type": "code",
   "execution_count": 1,
   "id": "35078ae4",
   "metadata": {},
   "outputs": [
    {
     "name": "stdout",
     "output_type": "stream",
     "text": [
      "['MAXYEAR', 'MINYEAR', '__all__', '__builtins__', '__cached__', '__doc__', '__file__', '__loader__', '__name__', '__package__', '__spec__', 'date', 'datetime', 'datetime_CAPI', 'sys', 'time', 'timedelta', 'timezone', 'tzinfo']\n"
     ]
    }
   ],
   "source": [
    "import datetime\n",
    "print(dir(datetime))"
   ]
  },
  {
   "cell_type": "code",
   "execution_count": 22,
   "id": "b579be95",
   "metadata": {},
   "outputs": [
    {
     "name": "stdout",
     "output_type": "stream",
     "text": [
      "2021-01-25\n"
     ]
    }
   ],
   "source": [
    "date1=datetime.date(2021,1,25)\n",
    "print(date1)"
   ]
  },
  {
   "cell_type": "code",
   "execution_count": 4,
   "id": "e81843cd",
   "metadata": {},
   "outputs": [
    {
     "name": "stdout",
     "output_type": "stream",
     "text": [
      "<class 'datetime.date'>\n"
     ]
    }
   ],
   "source": [
    "print(type(date1))"
   ]
  },
  {
   "cell_type": "code",
   "execution_count": 6,
   "id": "3014daa2",
   "metadata": {},
   "outputs": [
    {
     "name": "stdout",
     "output_type": "stream",
     "text": [
      "2020\n",
      "1\n",
      "25\n",
      "5\n",
      "6\n"
     ]
    }
   ],
   "source": [
    "print(date1.year)\n",
    "print(date1.month)\n",
    "print(date1.day)\n",
    "print(date1.weekday())\n",
    "print(date1.isoweekday())"
   ]
  },
  {
   "cell_type": "code",
   "execution_count": 8,
   "id": "d8f608cc",
   "metadata": {},
   "outputs": [
    {
     "name": "stdout",
     "output_type": "stream",
     "text": [
      "2023-05-01\n"
     ]
    }
   ],
   "source": [
    "currentdate=datetime.date.today()\n",
    "print(currentdate)"
   ]
  },
  {
   "cell_type": "code",
   "execution_count": 9,
   "id": "470627a4",
   "metadata": {},
   "outputs": [
    {
     "data": {
      "text/plain": [
       "'01st of May, 2023'"
      ]
     },
     "execution_count": 9,
     "metadata": {},
     "output_type": "execute_result"
    }
   ],
   "source": [
    "# Strftime: this is used fo the modification of date and time\n",
    "#A represent weekday in Words(full)\n",
    "#a represent weekday in words(abb)\n",
    "#B represent the month in words(full)\n",
    "#b represnt the month in words(abb)\n",
    "#d represent the day\n",
    "#m represent the mnonth in figure\n",
    "#Y represent the year(4 digits)\n",
    "#y represent the yaer(2 didgits)\n",
    "currentdate.strftime('%dst of %B, %Y')\n"
   ]
  },
  {
   "cell_type": "code",
   "execution_count": 10,
   "id": "82ca1f43",
   "metadata": {},
   "outputs": [
    {
     "name": "stdout",
     "output_type": "stream",
     "text": [
      "12:25:52.252369\n"
     ]
    }
   ],
   "source": [
    "time1=datetime.time(12,25,52,252369)\n",
    "print(time1)"
   ]
  },
  {
   "cell_type": "code",
   "execution_count": 13,
   "id": "95f1a34d",
   "metadata": {},
   "outputs": [
    {
     "name": "stdout",
     "output_type": "stream",
     "text": [
      "14:40:35.248761\n"
     ]
    }
   ],
   "source": [
    "currenttime=datetime.datetime.now().time()\n",
    "print(currenttime)"
   ]
  },
  {
   "cell_type": "code",
   "execution_count": 16,
   "id": "e2df2d0f",
   "metadata": {},
   "outputs": [
    {
     "data": {
      "text/plain": [
       "'02:40:35:PM'"
      ]
     },
     "execution_count": 16,
     "metadata": {},
     "output_type": "execute_result"
    }
   ],
   "source": [
    "# H represent hour(24)\n",
    "# I represent hour(12)\n",
    "# M represent Minute\n",
    "# S represent seconds\n",
    "# f represent micro second\n",
    "# p represent either AM or PM\n",
    "\n",
    "currenttime.strftime('%I:%M:%S:%p')"
   ]
  },
  {
   "cell_type": "code",
   "execution_count": 17,
   "id": "2ae60b93",
   "metadata": {},
   "outputs": [
    {
     "name": "stdout",
     "output_type": "stream",
     "text": [
      "Enter your date in this format [d/m/Y]02/12/2022\n",
      "2022-12-02\n"
     ]
    }
   ],
   "source": [
    "# strptime is used to convert a string t0 datetime formart\n",
    "date2=input('Enter your date in this format [d/m/Y]')\n",
    "cdate=datetime.datetime.strptime(date2,'%d/%m/%Y').date()\n",
    "print(cdate)"
   ]
  },
  {
   "cell_type": "code",
   "execution_count": 18,
   "id": "8c4e9df2",
   "metadata": {},
   "outputs": [
    {
     "data": {
      "text/plain": [
       "datetime.datetime(2023, 5, 1, 14, 58, 15, 582021)"
      ]
     },
     "execution_count": 18,
     "metadata": {},
     "output_type": "execute_result"
    }
   ],
   "source": [
    "# date time calculation usinf time delta\n",
    "\n",
    "currentdate_time=datetime.datetime.now()\n",
    "currentdate_time\n"
   ]
  },
  {
   "cell_type": "code",
   "execution_count": 23,
   "id": "d2e4cf90",
   "metadata": {},
   "outputs": [
    {
     "data": {
      "text/plain": [
       "datetime.timedelta(days=826)"
      ]
     },
     "execution_count": 23,
     "metadata": {},
     "output_type": "execute_result"
    }
   ],
   "source": [
    "currentdate-date1\n"
   ]
  },
  {
   "cell_type": "code",
   "execution_count": 24,
   "id": "76e6c880",
   "metadata": {},
   "outputs": [
    {
     "data": {
      "text/plain": [
       "datetime.datetime(2023, 9, 28, 14, 58, 15, 582021)"
      ]
     },
     "execution_count": 24,
     "metadata": {},
     "output_type": "execute_result"
    }
   ],
   "source": [
    "currentdate_time + datetime.timedelta(days=150) # this shows d exact date of next 150days"
   ]
  },
  {
   "cell_type": "code",
   "execution_count": 25,
   "id": "1b6e9eb2",
   "metadata": {},
   "outputs": [
    {
     "data": {
      "text/plain": [
       "datetime.datetime(2022, 12, 2, 14, 58, 15, 582021)"
      ]
     },
     "execution_count": 25,
     "metadata": {},
     "output_type": "execute_result"
    }
   ],
   "source": [
    "currentdate_time-datetime.timedelta(days=150) # shows exact date of past 150 days"
   ]
  },
  {
   "cell_type": "markdown",
   "id": "93f93f3c",
   "metadata": {},
   "source": [
    "# WRITE A PROGRAM TO GUESS A GENERATED RANDOM LETTER AND CALCULATE HOW MANY SECONDS IT TAKES TO GUESS THE LETTER"
   ]
  },
  {
   "cell_type": "code",
   "execution_count": 27,
   "id": "dbd85a55",
   "metadata": {},
   "outputs": [
    {
     "name": "stdout",
     "output_type": "stream",
     "text": [
      "Enter Your Guess:Q\n",
      "Enter Your Guess:W\n",
      "Enter Your Guess:E\n",
      "Enter Your Guess:R\n",
      "Enter Your Guess:A\n",
      "Enter Your Guess:S\n",
      "Enter Your Guess:D\n",
      "Enter Your Guess:F\n",
      "Enter Your Guess:Z\n",
      "Congrats your guess is right>... \n",
      "Your time frame for guessing the correct letter is 10 Seconds\n"
     ]
    }
   ],
   "source": [
    "import random\n",
    "import string\n",
    "letters=string.ascii_uppercase\n",
    "char=list(map(lambda X: X.upper(),letters))\n",
    "guess=random.choice(char)\n",
    "counter=0\n",
    "start=datetime.datetime.now()\n",
    "yourguess=input('Enter Your Guess:')\n",
    "while yourguess !=guess:\n",
    "    counter+=1\n",
    "    yourguess=input('Enter Your Guess:')\n",
    "else:\n",
    "    print('Congrats your guess is right>... ')\n",
    "stop=datetime.datetime.now()\n",
    "diff=stop-start\n",
    "print(f'Your time frame for guessing the correct letter is {diff.seconds} Seconds')\n",
    "    "
   ]
  },
  {
   "cell_type": "code",
   "execution_count": 37,
   "id": "d2e292e6",
   "metadata": {},
   "outputs": [
    {
     "name": "stdout",
     "output_type": "stream",
     "text": [
      "Enter Your appointment date as follows[d/m/Y]:01/05/2024\n",
      " You have 52 Weeks and 2 Days to your appointment\n"
     ]
    }
   ],
   "source": [
    "# Exercise\n",
    "# Write a program to calculate how many weeks and days a user has untill his/her appointment date from current date\n",
    "\n",
    "appointmentdate=input('Enter Your appointment date as follows[d/m/Y]:')\n",
    "convdate=datetime.datetime.strptime(appointmentdate,'%d/%m/%Y').date()\n",
    "presentdate=datetime.date.today()\n",
    "datediff=convdate-presentdate\n",
    "trnweeks = datediff.days // 7\n",
    "remaindays=datediff.days % 7\n",
    "print(f' You have {trnweeks} Weeks and {remaindays} Days to your appointment')"
   ]
  },
  {
   "cell_type": "code",
   "execution_count": null,
   "id": "a2e4b1e4",
   "metadata": {},
   "outputs": [],
   "source": []
  }
 ],
 "metadata": {
  "kernelspec": {
   "display_name": "Python 3 (ipykernel)",
   "language": "python",
   "name": "python3"
  },
  "language_info": {
   "codemirror_mode": {
    "name": "ipython",
    "version": 3
   },
   "file_extension": ".py",
   "mimetype": "text/x-python",
   "name": "python",
   "nbconvert_exporter": "python",
   "pygments_lexer": "ipython3",
   "version": "3.9.12"
  }
 },
 "nbformat": 4,
 "nbformat_minor": 5
}

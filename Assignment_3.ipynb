{
 "cells": [
  {
   "cell_type": "markdown",
   "id": "3e7b858f",
   "metadata": {},
   "source": [
    "# WRITE A PROGRAM FOR JSHIP LIMITED TO CALCULATE THE SHPPING PRICE OF AN ITEM USING THEFOLLOWING CRITERIAS [CONDITION(FRAGILE AND NON FRAGILE) AND WEIGHT,LOCATION[WEST,NORTH,SOUTH AND NOTH\n",
    "\n",
    "# FOR FRAGILE PER KG WEST:100, SOUTH:120,NORTH:150,EAST:115 AND FOR NON FRAGILE PER KG IS WEST:75, NORTH:95,EAST:85, SOUTH:76\n",
    "\n",
    "# ASK FOR THE CONDITION, LOCATION AND WEIGHT"
   ]
  },
  {
   "cell_type": "code",
   "execution_count": 17,
   "id": "6f747393",
   "metadata": {
    "scrolled": true
   },
   "outputs": [
    {
     "name": "stdout",
     "output_type": "stream",
     "text": [
      "Provide Item Condition[fragile,non-fragile]:non-fragile\n",
      "Provide Item Weight in kg:10\n",
      "Provide Shipping Location[North,South, West, East]:West\n",
      "Your Shippig cost is: N750.0\n"
     ]
    }
   ],
   "source": [
    "condition=input('Provide Item Condition[fragile,non-fragile]:')\n",
    "weight=float(input('Provide Item Weight in kg:'))\n",
    "location=input('Provide Shipping Location[North,South, West, East]:')\n",
    "if condition =='fragile' and location =='North':\n",
    "    print(f'Your Shippig cost is: N{weight * 150}')\n",
    "elif condition =='fragile' and location =='South':\n",
    "    print(f'Your Shippig cost is: N{weight * 120}')\n",
    "elif condition =='fragile' and location =='East':\n",
    "    print(f'Your Shippig cost is: N{weight * 115}')\n",
    "elif condition =='fragile' and location =='West':\n",
    "    print(f'Your Shippig cost is: N{weight * 100}')\n",
    "elif condition =='non-fragile' and location =='North':\n",
    "    print(f'Your Shippig cost is: N{weight * 95}')\n",
    "elif condition =='non-fragile' and location =='West':\n",
    "    print(f'Your Shippig cost is: N{weight * 75}')\n",
    "elif condition =='non-fragile' and location =='East':\n",
    "    print(f'Your Shippig cost is: N{weight * 80}')\n",
    "elif condition =='non-fragile' and location =='South':\n",
    "    print(f'Your Shippig cost is: N{weight * 76}')\n",
    "else:\n",
    "        print('Shipping Condition or Location Inputed Wrongly')\n"
   ]
  },
  {
   "cell_type": "markdown",
   "id": "bf6b1e45",
   "metadata": {},
   "source": [
    "# WRITE A PROGRAM TO GET THE AVERAGE OF A STUDENT IN 8 SUBJECT AND DISPLAY THE GRADE ATTAINED"
   ]
  },
  {
   "cell_type": "code",
   "execution_count": 28,
   "id": "8b7d2b68",
   "metadata": {},
   "outputs": [
    {
     "name": "stdout",
     "output_type": "stream",
     "text": [
      "Enter score for Subject One: 1000\n",
      "Enter score for Subject Two: 99\n",
      "Enter score for Subject Three: 908\n",
      "Enter score for Subject Four: 0072\n",
      "Enter score for Subject Five: 90\n",
      "Enter score for Subject Six: 100\n",
      "Enter score for Subject Seven: 200\n",
      "Enter score for Subject Eight: 9\n",
      "Invalid Input!\n"
     ]
    }
   ],
   "source": [
    "\n",
    "#print(\"Enter Marks Obtained in 8 Subjects: \")\n",
    "markOne = float(input('Enter score for Subject One: '))\n",
    "markTwo = float(input('Enter score for Subject Two: '))\n",
    "markThree = float(input('Enter score for Subject Three: '))\n",
    "markFour = float(input('Enter score for Subject Four: '))\n",
    "markFive = float(input('Enter score for Subject Five: '))\n",
    "markSix = float(input('Enter score for Subject Six: '))\n",
    "markSeven = float(input('Enter score for Subject Seven: '))\n",
    "markEight = float(input('Enter score for Subject Eight: '))\n",
    "\n",
    "total = markOne+markTwo+markThree+markFour+markFive+markSix+markSeven+markEight\n",
    "avg = total/8\n",
    "\n",
    "if avg>=70 and avg<=100:\n",
    "    print(\"Your Grade is A\")\n",
    "elif avg>=60 and avg<70:\n",
    "    print(\"Your Grade is B\")\n",
    "elif avg>=50 and avg<60:\n",
    "    print(\"Your Grade is C\")\n",
    "elif avg>=45 and avg<50:\n",
    "    print(\"Your Grade is D\")\n",
    "elif avg>=40 and avg<45:\n",
    "    print(\"Your Grade is E\")\n",
    "elif avg>=0 and avg<40:\n",
    "    print(\"Your Grade is F\")\n",
    "else:\n",
    "    print(\"Invalid Input!\")"
   ]
  },
  {
   "cell_type": "code",
   "execution_count": null,
   "id": "df8258b2",
   "metadata": {},
   "outputs": [],
   "source": []
  },
  {
   "cell_type": "code",
   "execution_count": null,
   "id": "58c6d0b4",
   "metadata": {},
   "outputs": [],
   "source": []
  }
 ],
 "metadata": {
  "kernelspec": {
   "display_name": "Python 3 (ipykernel)",
   "language": "python",
   "name": "python3"
  },
  "language_info": {
   "codemirror_mode": {
    "name": "ipython",
    "version": 3
   },
   "file_extension": ".py",
   "mimetype": "text/x-python",
   "name": "python",
   "nbconvert_exporter": "python",
   "pygments_lexer": "ipython3",
   "version": "3.9.12"
  }
 },
 "nbformat": 4,
 "nbformat_minor": 5
}

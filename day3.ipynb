{
 "cells": [
  {
   "cell_type": "markdown",
   "id": "7c9111c3",
   "metadata": {},
   "source": [
    "# TURPLE\n",
    "# Turple is unchangable\n",
    "# Turple is denoted\n",
    "# To access value from Turple we use the index location\n",
    "# NOTE:: Any of the iterable object is not limited to one data type\n"
   ]
  },
  {
   "cell_type": "code",
   "execution_count": 3,
   "id": "6ac3042c",
   "metadata": {},
   "outputs": [
    {
     "name": "stdout",
     "output_type": "stream",
     "text": [
      "16\n"
     ]
    }
   ],
   "source": [
    "numbers=(45,87,96,85,93,90,70,71,72,85,45,46,49,42,40,89)\n",
    "print(len(numbers))"
   ]
  },
  {
   "cell_type": "code",
   "execution_count": 5,
   "id": "2d7596c8",
   "metadata": {},
   "outputs": [
    {
     "name": "stdout",
     "output_type": "stream",
     "text": [
      "<class 'tuple'>\n"
     ]
    }
   ],
   "source": [
    "print(type(numbers))"
   ]
  },
  {
   "cell_type": "code",
   "execution_count": 6,
   "id": "8fb9dfba",
   "metadata": {},
   "outputs": [
    {
     "name": "stdout",
     "output_type": "stream",
     "text": [
      "72\n"
     ]
    }
   ],
   "source": [
    "print(numbers[8])#retreiving a value from truple using the forward index location"
   ]
  },
  {
   "cell_type": "code",
   "execution_count": 7,
   "id": "e28341d0",
   "metadata": {},
   "outputs": [
    {
     "name": "stdout",
     "output_type": "stream",
     "text": [
      "85\n"
     ]
    }
   ],
   "source": [
    "print(numbers[-7])# retreiving a value from turple using the backword index location"
   ]
  },
  {
   "cell_type": "code",
   "execution_count": 8,
   "id": "f4da03d8",
   "metadata": {},
   "outputs": [
    {
     "name": "stdout",
     "output_type": "stream",
     "text": [
      "False\n"
     ]
    }
   ],
   "source": [
    "print(100 in numbers)# using the membership operator to check if a value exist in our  turple"
   ]
  },
  {
   "cell_type": "code",
   "execution_count": 9,
   "id": "fa25a82f",
   "metadata": {},
   "outputs": [
    {
     "name": "stdout",
     "output_type": "stream",
     "text": [
      "2\n"
     ]
    }
   ],
   "source": [
    "print (numbers.count(85))#we use the count function to reterive the frequency of a value"
   ]
  },
  {
   "cell_type": "code",
   "execution_count": 10,
   "id": "4269569a",
   "metadata": {},
   "outputs": [
    {
     "name": "stdout",
     "output_type": "stream",
     "text": [
      "0\n"
     ]
    }
   ],
   "source": [
    "print (numbers.index(45))# we use the index function to retreive the  location of a value"
   ]
  },
  {
   "cell_type": "code",
   "execution_count": 11,
   "id": "0a93ad76",
   "metadata": {},
   "outputs": [
    {
     "name": "stdout",
     "output_type": "stream",
     "text": [
      "(93, 90, 70, 71, 72, 85)\n"
     ]
    }
   ],
   "source": [
    "print(numbers[4:10]) #retreiving range of value from a starting location to the stoping location"
   ]
  },
  {
   "cell_type": "code",
   "execution_count": 12,
   "id": "81413c7d",
   "metadata": {},
   "outputs": [
    {
     "name": "stdout",
     "output_type": "stream",
     "text": [
      "(89, 40, 42, 49, 46, 45, 85, 72, 71, 70, 90, 93, 85, 96, 87, 45)\n"
     ]
    }
   ],
   "source": [
    "print(numbers[::-1])# retreiving the values in our turple in reversing order"
   ]
  },
  {
   "cell_type": "markdown",
   "id": "37041abe",
   "metadata": {},
   "source": [
    "# LIST\n",
    "# List is changable\n",
    "# List is denoted\n",
    "# To access value from List we use the index location\n",
    "# NOTE:: Any of the iterable object is not limited to one data type"
   ]
  },
  {
   "cell_type": "code",
   "execution_count": 13,
   "id": "798c7a68",
   "metadata": {},
   "outputs": [],
   "source": [
    "items=['plate','cup','lemon','cherry']"
   ]
  },
  {
   "cell_type": "code",
   "execution_count": 15,
   "id": "914005c2",
   "metadata": {},
   "outputs": [
    {
     "name": "stdout",
     "output_type": "stream",
     "text": [
      "['plate', 'cup', 'lemon', 'cherry', 'Pear', 'Pear']\n"
     ]
    }
   ],
   "source": [
    "items.append('Pear')# adding new value to the end of the existing value\n",
    "print(items)"
   ]
  },
  {
   "cell_type": "code",
   "execution_count": 17,
   "id": "635ad795",
   "metadata": {},
   "outputs": [
    {
     "name": "stdout",
     "output_type": "stream",
     "text": [
      "['plate', 'cup', 'lemon', 'cherry', 'Pear', 'Pencil', 'Pencil', 'Pear']\n"
     ]
    }
   ],
   "source": [
    "items.insert(5,'Pencil')# adding new value to a desired location in the exixting values\n",
    "print(items)"
   ]
  },
  {
   "cell_type": "code",
   "execution_count": 18,
   "id": "418dafb0",
   "metadata": {},
   "outputs": [
    {
     "name": "stdout",
     "output_type": "stream",
     "text": [
      "['plate', 'cup', 'lemon', 'cherry', 'Pear', 'Pencil', 'Pencil', 'Pear', 'Banana', 'Grape', 'Lemon', 'Lime', 'Apple']\n"
     ]
    }
   ],
   "source": [
    "newitem=['Banana', 'Grape', 'Lemon','Lime','Apple']\n",
    "items.extend(newitem)# adding new value from another list or turple to the existing list\n",
    "print(items)"
   ]
  },
  {
   "cell_type": "code",
   "execution_count": 20,
   "id": "b3f35f1d",
   "metadata": {},
   "outputs": [
    {
     "name": "stdout",
     "output_type": "stream",
     "text": [
      "['plate', 'cup', 'lemon', 'cherry', 'Pear', 'Pear', 'Banana', 'Grape', 'Lemon', 'Lime', 'Apple']\n"
     ]
    }
   ],
   "source": [
    "items.pop(5)# dropping of a value using it's index location\n",
    "print(items)"
   ]
  },
  {
   "cell_type": "code",
   "execution_count": 22,
   "id": "9a848476",
   "metadata": {},
   "outputs": [
    {
     "name": "stdout",
     "output_type": "stream",
     "text": [
      "['plate', 'cup', 'lemon', 'cherry', 'Banana', 'Grape', 'Lemon', 'Lime', 'Apple']\n"
     ]
    }
   ],
   "source": [
    "items.remove('Pear')# dropping of a value by specifying the value itself\n",
    "print(items)"
   ]
  },
  {
   "cell_type": "code",
   "execution_count": 24,
   "id": "c0fd418b",
   "metadata": {},
   "outputs": [
    {
     "name": "stdout",
     "output_type": "stream",
     "text": [
      "['Apple', 'Banana', 'Grape', 'Lemon', 'Lime', 'cherry', 'cup', 'lemon', 'plate']\n"
     ]
    }
   ],
   "source": [
    "items.sort()# sort will arrange the vallues in ascending order\n",
    "print(items)"
   ]
  },
  {
   "cell_type": "code",
   "execution_count": 27,
   "id": "8a17a0b9",
   "metadata": {},
   "outputs": [
    {
     "name": "stdout",
     "output_type": "stream",
     "text": [
      "['plate', 'lemon', 'cup', 'cherry', 'Lime', 'Lemon', 'Grape', 'Banana', 'Apple']\n"
     ]
    }
   ],
   "source": [
    "items.sort(reverse=True)# sort with reverse will arrange the values in descending order\n",
    "print(items)"
   ]
  },
  {
   "cell_type": "code",
   "execution_count": 28,
   "id": "57828372",
   "metadata": {},
   "outputs": [
    {
     "name": "stdout",
     "output_type": "stream",
     "text": [
      "['plate', 'lemon', 'cup', 'cherry', 'Lime', 'Lemon', 'Grape', 'Banana', 'Apple']\n"
     ]
    }
   ],
   "source": [
    "items_copy=items.copy()# how to create copy of a list\n",
    "print(items_copy)"
   ]
  },
  {
   "cell_type": "code",
   "execution_count": 33,
   "id": "5d5727dc",
   "metadata": {},
   "outputs": [
    {
     "ename": "NameError",
     "evalue": "name 'items_copy' is not defined",
     "output_type": "error",
     "traceback": [
      "\u001b[1;31m---------------------------------------------------------------------------\u001b[0m",
      "\u001b[1;31mNameError\u001b[0m                                 Traceback (most recent call last)",
      "Input \u001b[1;32mIn [33]\u001b[0m, in \u001b[0;36m<cell line: 1>\u001b[1;34m()\u001b[0m\n\u001b[1;32m----> 1\u001b[0m \u001b[43mitems_copy\u001b[49m\u001b[38;5;241m.\u001b[39mclear()\n\u001b[0;32m      2\u001b[0m \u001b[38;5;28mprint\u001b[39m(items_copy)\n",
      "\u001b[1;31mNameError\u001b[0m: name 'items_copy' is not defined"
     ]
    }
   ],
   "source": [
    "items_copy.clear()\n",
    "print(items_copy)"
   ]
  },
  {
   "cell_type": "code",
   "execution_count": 32,
   "id": "f3152d8f",
   "metadata": {},
   "outputs": [
    {
     "ename": "NameError",
     "evalue": "name 'items_copy' is not defined",
     "output_type": "error",
     "traceback": [
      "\u001b[1;31m---------------------------------------------------------------------------\u001b[0m",
      "\u001b[1;31mNameError\u001b[0m                                 Traceback (most recent call last)",
      "Input \u001b[1;32mIn [32]\u001b[0m, in \u001b[0;36m<cell line: 2>\u001b[1;34m()\u001b[0m\n\u001b[0;32m      1\u001b[0m \u001b[38;5;66;03m#del(items_copy)\u001b[39;00m\n\u001b[1;32m----> 2\u001b[0m \u001b[38;5;28mprint\u001b[39m(\u001b[43mitems_copy\u001b[49m)\n",
      "\u001b[1;31mNameError\u001b[0m: name 'items_copy' is not defined"
     ]
    }
   ],
   "source": [
    "del(items_copy)\n",
    "print(items_copy)"
   ]
  },
  {
   "cell_type": "markdown",
   "id": "fb624a09",
   "metadata": {},
   "source": [
    "# DICTIONARY\n",
    "# Turple is changable\n",
    "# Turple is denoted  with {}\n",
    "# To access value from Turple we use the key\n",
    "# NOte:: Any of the iterable object is not limited to one data type"
   ]
  },
  {
   "cell_type": "code",
   "execution_count": 35,
   "id": "8563d058",
   "metadata": {},
   "outputs": [
    {
     "name": "stdout",
     "output_type": "stream",
     "text": [
      "Job Ford\n"
     ]
    }
   ],
   "source": [
    "records={'name':'Job Ford', 'Gender':'Male', 'Age':58}\n",
    "print(records['name'])"
   ]
  },
  {
   "cell_type": "code",
   "execution_count": 36,
   "id": "dba5e7e9",
   "metadata": {},
   "outputs": [
    {
     "name": "stdout",
     "output_type": "stream",
     "text": [
      "dict_keys(['name', 'Gender', 'Age'])\n"
     ]
    }
   ],
   "source": [
    "print(records.keys())"
   ]
  },
  {
   "cell_type": "code",
   "execution_count": 37,
   "id": "72e17d8a",
   "metadata": {},
   "outputs": [
    {
     "name": "stdout",
     "output_type": "stream",
     "text": [
      "dict_values(['Job Ford', 'Male', 58])\n"
     ]
    }
   ],
   "source": [
    "print(records.values())"
   ]
  },
  {
   "cell_type": "code",
   "execution_count": 39,
   "id": "423cadcf",
   "metadata": {},
   "outputs": [
    {
     "name": "stdout",
     "output_type": "stream",
     "text": [
      "Male\n"
     ]
    }
   ],
   "source": [
    "print(records.get('Gender'))"
   ]
  },
  {
   "cell_type": "code",
   "execution_count": 40,
   "id": "397759e8",
   "metadata": {},
   "outputs": [
    {
     "name": "stdout",
     "output_type": "stream",
     "text": [
      "{'name': 'Job Ford', 'Gender': 'Male', 'Age': 58, 'Height': 1.9}\n"
     ]
    }
   ],
   "source": [
    "records['Height']=1.90\n",
    "print(records)"
   ]
  },
  {
   "cell_type": "code",
   "execution_count": 41,
   "id": "952bb802",
   "metadata": {},
   "outputs": [
    {
     "name": "stdout",
     "output_type": "stream",
     "text": [
      "{'name': 'Job Ford', 'Gender': 'Male', 'Age': 60, 'Height': 1.9}\n"
     ]
    }
   ],
   "source": [
    "r={'Age': 60}\n",
    "records.update(r)\n",
    "print(records)"
   ]
  },
  {
   "cell_type": "code",
   "execution_count": 43,
   "id": "e3c7b151",
   "metadata": {},
   "outputs": [
    {
     "name": "stdout",
     "output_type": "stream",
     "text": [
      "{'name': 'Job Ford', 'Gender': 'Male'}\n"
     ]
    }
   ],
   "source": [
    "records.popitem()\n",
    "print(records)"
   ]
  },
  {
   "cell_type": "code",
   "execution_count": 44,
   "id": "3e4c95ae",
   "metadata": {},
   "outputs": [
    {
     "data": {
      "text/plain": [
       "['Mary Bade', 'Female', 14, 'Jss2B']"
      ]
     },
     "execution_count": 44,
     "metadata": {},
     "output_type": "execute_result"
    }
   ],
   "source": [
    "student_records={\n",
    "    '001':['Ade Bando','Male',14,'Jss2A'],\n",
    "     '002':['Mary Bade','Female',14,'Jss2B'],\n",
    "     '003':['Bade Pounch','Male',15,'Jss2A'],\n",
    "}\n",
    "student_records['002']"
   ]
  },
  {
   "cell_type": "code",
   "execution_count": 47,
   "id": "a2302f3e",
   "metadata": {},
   "outputs": [
    {
     "name": "stdout",
     "output_type": "stream",
     "text": [
      "14\n"
     ]
    }
   ],
   "source": [
    "print(student_records['002'][2])"
   ]
  },
  {
   "cell_type": "markdown",
   "id": "7436a654",
   "metadata": {},
   "source": [
    "# ASSIGNMENT SATURDAY 15/04/2023"
   ]
  },
  {
   "cell_type": "code",
   "execution_count": 2,
   "id": "9019bbae",
   "metadata": {},
   "outputs": [
    {
     "name": "stdout",
     "output_type": "stream",
     "text": [
      "21\n"
     ]
    }
   ],
   "source": [
    "turple_assignment=(46, 53, 45, 48, 55, 45, 49, 51, 51, 58, 50, 55, 53, 57, 50, 46, 55, 55, 47, 57, 55)\n",
    "print(len(turple_assignment))"
   ]
  },
  {
   "cell_type": "code",
   "execution_count": 3,
   "id": "35b00047",
   "metadata": {},
   "outputs": [
    {
     "name": "stdout",
     "output_type": "stream",
     "text": [
      "<class 'tuple'>\n"
     ]
    }
   ],
   "source": [
    "print(type(turple_assignment))"
   ]
  },
  {
   "cell_type": "code",
   "execution_count": 4,
   "id": "9c63947d",
   "metadata": {},
   "outputs": [
    {
     "name": "stdout",
     "output_type": "stream",
     "text": [
      "58 49\n"
     ]
    }
   ],
   "source": [
    "print(turple_assignment[9],turple_assignment[6])"
   ]
  },
  {
   "cell_type": "code",
   "execution_count": 67,
   "id": "21b03950",
   "metadata": {},
   "outputs": [
    {
     "name": "stdout",
     "output_type": "stream",
     "text": [
      "5\n"
     ]
    }
   ],
   "source": [
    "print(turple_assignment.count(55))"
   ]
  },
  {
   "cell_type": "code",
   "execution_count": null,
   "id": "dc04d591",
   "metadata": {},
   "outputs": [],
   "source": [
    "pls ur number:"
   ]
  }
 ],
 "metadata": {
  "kernelspec": {
   "display_name": "Python 3 (ipykernel)",
   "language": "python",
   "name": "python3"
  },
  "language_info": {
   "codemirror_mode": {
    "name": "ipython",
    "version": 3
   },
   "file_extension": ".py",
   "mimetype": "text/x-python",
   "name": "python",
   "nbconvert_exporter": "python",
   "pygments_lexer": "ipython3",
   "version": "3.9.12"
  }
 },
 "nbformat": 4,
 "nbformat_minor": 5
}

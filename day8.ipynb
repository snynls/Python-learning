{
 "cells": [
  {
   "cell_type": "markdown",
   "id": "c99f29c1",
   "metadata": {},
   "source": [
    "# Class and Object"
   ]
  },
  {
   "cell_type": "code",
   "execution_count": 1,
   "id": "91b86fd3",
   "metadata": {},
   "outputs": [],
   "source": [
    "class person:\n",
    "    attr1='James'\n",
    "    attr2='Male'\n",
    "person1=person() # Person1 is the object used to call calss 'person'"
   ]
  },
  {
   "cell_type": "code",
   "execution_count": 3,
   "id": "78d6956e",
   "metadata": {},
   "outputs": [
    {
     "data": {
      "text/plain": [
       "'James'"
      ]
     },
     "execution_count": 3,
     "metadata": {},
     "output_type": "execute_result"
    }
   ],
   "source": [
    "person1.attr1"
   ]
  },
  {
   "cell_type": "code",
   "execution_count": 4,
   "id": "80f43cd2",
   "metadata": {},
   "outputs": [],
   "source": [
    "class person:\n",
    "    attr1='James'\n",
    "    attr2='Male'\n",
    "    def details(self):\n",
    "        print(f'my name is {self.attr1}')\n",
    "        \n",
    "person1= person()"
   ]
  },
  {
   "cell_type": "code",
   "execution_count": 6,
   "id": "d9c53280",
   "metadata": {},
   "outputs": [
    {
     "name": "stdout",
     "output_type": "stream",
     "text": [
      "my name is James\n"
     ]
    }
   ],
   "source": [
    "person1.details()"
   ]
  },
  {
   "cell_type": "markdown",
   "id": "e762bfd5",
   "metadata": {},
   "source": [
    "# USING CLASS AND OBJECT WRITE A PROGRAM TO DEPOSIT, TRANSFER BUY AIRTIME , BUY DATA AND CHECK BALANCE"
   ]
  },
  {
   "cell_type": "code",
   "execution_count": 18,
   "id": "039fe3ab",
   "metadata": {},
   "outputs": [
    {
     "name": "stdout",
     "output_type": "stream",
     "text": [
      "Enter Your pasword:admin\n",
      "Enter Yes to Perform Transactionyes\n",
      "Choose Your Operation: \n",
      "1. deposit\n",
      "2. transfer\n",
      "3. airtime\n",
      "4. data\n",
      "5. checkbalance\n",
      "6. logout\n",
      "logout\n",
      "You'r Logged Out\n"
     ]
    }
   ],
   "source": [
    "class moniapp:\n",
    "    def __init__(self):\n",
    "        self.balance=0\n",
    "    def deposit(self):\n",
    "        amount=float(input('Enter Deposite Amount:'))\n",
    "        self.balance=self.balance +amount\n",
    "        print('Transaction successful...')\n",
    "        \n",
    "    def transfer(self):\n",
    "        amount=float(input('Enter Transfer Amount:'))\n",
    "        destination=input('Enter Destination Account Number:')\n",
    "        bank=input('Enter Bank Name:')\n",
    "        if amount > self.balance:\n",
    "            print('Insufficient Fund')\n",
    "        elif amount==0:\n",
    "            print('Amount can not be 0')\n",
    "        else:\n",
    "                self.balance=self.balance-amount\n",
    "                print('Transaction successful...')\n",
    "                \n",
    "    def airtime(self):\n",
    "        amount=float(input('Enter Transfer Amount:'))\n",
    "        destination=input('Enter Destination phone Number:')\n",
    "        provider=input('Network Provider:')\n",
    "        if amount > self.balance:\n",
    "            print('Insufficient Fund')\n",
    "        elif amount==0:\n",
    "            print('Amount can not be 0')\n",
    "        else:\n",
    "                self.balance=self.balance-amount\n",
    "                print('Transaction successful...')\n",
    "                \n",
    "                \n",
    "    def data(self):\n",
    "        amount=float(input('Enter Transfer Amount:'))\n",
    "        destination=input('Enter Destination phone Number:')\n",
    "        provider=input('Enter Network provider:')\n",
    "        if amount > self.balance:\n",
    "            print('Insufficient Fund')\n",
    "        elif amount==0:\n",
    "            print('Amount can not be 0')\n",
    "        else:\n",
    "                self.balance=self.balance-amount\n",
    "                print('Transaction successful...')\n",
    "    def checkbalance(self):\n",
    "        print(f'Available Balance is: {self.balance}')\n",
    "app=moniapp()\n",
    "passid='admin'\n",
    "password=input('Enter Your pasword:')\n",
    "if password ==passid:\n",
    "    counter=0\n",
    "    operation=input('Enter Yes to Perform Transaction')\n",
    "    while operation==\"yes\":\n",
    "        option=input('''Choose Your Operation: \n",
    "1. deposit\n",
    "2. transfer\n",
    "3. airtime\n",
    "4. data\n",
    "5. checkbalance\n",
    "6. logout\n",
    "''')\n",
    "        if option=='deposit':\n",
    "            app.deposit()\n",
    "        elif option=='transfer':\n",
    "            app.transfer()\n",
    "        elif option=='airtime':\n",
    "            app.airtime()\n",
    "        elif option=='data':\n",
    "            app.data()\n",
    "        elif option=='checkbalance':\n",
    "            app.checkbalance()\n",
    "        elif option==\"logout\":\n",
    "            print('You\\'r Logged Out.....')\n",
    "            break\n",
    "else:\n",
    "    print ('Invalid Password')"
   ]
  },
  {
   "cell_type": "code",
   "execution_count": null,
   "id": "915b45a8",
   "metadata": {},
   "outputs": [],
   "source": []
  }
 ],
 "metadata": {
  "kernelspec": {
   "display_name": "Python 3 (ipykernel)",
   "language": "python",
   "name": "python3"
  },
  "language_info": {
   "codemirror_mode": {
    "name": "ipython",
    "version": 3
   },
   "file_extension": ".py",
   "mimetype": "text/x-python",
   "name": "python",
   "nbconvert_exporter": "python",
   "pygments_lexer": "ipython3",
   "version": "3.9.12"
  }
 },
 "nbformat": 4,
 "nbformat_minor": 5
}
